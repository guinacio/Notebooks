{
 "cells": [
  {
   "cell_type": "markdown",
   "metadata": {},
   "source": [
    "# Web Scraping with Python\n",
    "\n",
    "In this notebook, we will be scraping crop prices from the Agrolink website. Interestingly, the website uses images to display the prices, which makes it harder to scrape the data. However, we have a clever approach to handle this. Let's dive in!\n",
    "\n",
    "![image.png](attachment:image.png)\n",
    "\n",
    "## Importing necessary libraries\n",
    "\n",
    "First, we need to import the necessary libraries for our script."
   ]
  },
  {
   "cell_type": "code",
   "execution_count": null,
   "metadata": {},
   "outputs": [],
   "source": [
    "from bs4 import BeautifulSoup\n",
    "from io import BytesIO\n",
    "from PIL import Image\n",
    "import pandas as pd\n",
    "import pytesseract\n",
    "import requests\n",
    "import re"
   ]
  }
 ],
 "metadata": {
  "language_info": {
   "name": "python"
  }
 },
 "nbformat": 4,
 "nbformat_minor": 2
}
