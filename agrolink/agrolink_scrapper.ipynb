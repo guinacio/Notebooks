{
 "cells": [
  {
   "cell_type": "markdown",
   "metadata": {},
   "source": [
    "# Web Scraping Agrolink with Python\n",
    "\n",
    "In this notebook, we will be scraping crop prices from the Agrolink website. Interestingly, the website uses images to display the prices, which makes it harder to scrape the data. However, we can use a clever approach to handle this. Let's dive in!\n",
    "\n",
    "<img src=\"agrolink_table.png\" alt=\"table\" width=\"600\"/>\n",
    "\n",
    "## Importing necessary libraries\n",
    "\n",
    "First, we need to import the necessary libraries for our script."
   ]
  },
  {
   "cell_type": "code",
   "execution_count": 18,
   "metadata": {},
   "outputs": [],
   "source": [
    "from bs4 import BeautifulSoup\n",
    "from io import BytesIO\n",
    "from PIL import Image\n",
    "import pandas as pd\n",
    "import pytesseract\n",
    "import requests\n",
    "import re"
   ]
  },
  {
   "cell_type": "markdown",
   "metadata": {},
   "source": [
    "## Defining helper function\n",
    "\n",
    "We define a helper function `extract_urls_and_positions` to extract the URLs, positions and image size from the HTML content."
   ]
  },
  {
   "cell_type": "code",
   "execution_count": 19,
   "metadata": {},
   "outputs": [],
   "source": [
    "def extract_urls_and_positions(html):\n",
    "    urlPattern = re.compile(r\"url\\('([^']+)'\\);\")\n",
    "    positionPattern = re.compile(r\"background-position:\\s*(-?\\d+)px\\s*(-?\\d+)px;\")\n",
    "    dimensionPattern = re.compile(r\"width:\\s*(\\d+)px;\\s*height:\\s*(\\d+)px;\")\n",
    "\n",
    "    urls = urlPattern.findall(html)\n",
    "    positions = positionPattern.search(html)\n",
    "    dimensions = dimensionPattern.search(html)\n",
    "\n",
    "    return urls, (positions.group(1).removeprefix('-'), positions.group(2).removeprefix('-')) if positions else None, (dimensions.group(1), dimensions.group(2)) if dimensions else None,"
   ]
  },
  {
   "cell_type": "markdown",
   "metadata": {},
   "source": [
    "## Scraping the data\n",
    "\n",
    "Now, we start scraping the data from the Agrolink website. We use pandas to read the HTML tables from the URL and BeautifulSoup to parse the HTML content. Although pandas can read the table, it cannot read the values since they are images. That's why they need to be added to the dataframe after the OCR process."
   ]
  },
  {
   "cell_type": "code",
   "execution_count": 20,
   "metadata": {},
   "outputs": [],
   "source": [
    "urlSource = 'https://www.agrolink.com.br/cotacoes/graos/arroz/'\n",
    "\n",
    "df = pd.read_html(urlSource)[0]\n",
    "\n",
    "response = requests.get(urlSource)\n",
    "htmlContent = response.text\n",
    "\n",
    "soup = BeautifulSoup(htmlContent, 'html.parser')"
   ]
  },
  {
   "attachments": {
    "C-PBIKGG-1.webp": {
     "image/webp": "[encoded data removed]"
    },
    "cropped_example.png": {
     "image/png": "[encoded data removed]"
    }
   },
   "cell_type": "markdown",
   "metadata": {},
   "source": [
    "# Processing the images\n",
    "\n",
    "The website uses images to display the prices. Each price is a part of a larger image, and the website uses CSS to display only the relevant part of the image. We need to replicate this in our script to extract the prices. Below you can find one of the images as an example.\n",
    "\n",
    "![example](attachment:C-PBIKGG-1.webp)\n",
    "\n",
    "We find all div elements with the class 'text-right float-right', which contain the prices. For each div element, we extract the URL of the image, the position of the price in the image, and the dimensions of the price. We then send a GET request to the URL to get the image, open the image, convert it to RGBA, and crop it to get only the price. An example of a cropped image below.\n",
    "\n",
    "![cropped example](attachment:cropped_example.png)\n",
    "\n",
    "Finally, we use pytesseract to perform Optical Character Recognition (OCR) on the cropped image to extract the price as text. We update our dataframe with the extracted price."
   ]
  },
  {
   "cell_type": "code",
   "execution_count": 21,
   "metadata": {},
   "outputs": [],
   "source": [
    "divElements = soup.find_all('div', class_='text-right float-right')\n",
    "\n",
    "for idx, divElement in enumerate(divElements):\n",
    "    htmlSnippet = str(divElement)\n",
    "    urls, positions, dimensions = extract_urls_and_positions(htmlSnippet)\n",
    "\n",
    "    url = urls[0]\n",
    "    x = int(positions[0])\n",
    "    y = int(positions[1])\n",
    "    sizeX = int(dimensions[0])\n",
    "    sizeY = int(dimensions[1])\n",
    "\n",
    "    cropBox = (x, y, x+sizeX, y+sizeY)\n",
    "\n",
    "    response = requests.get(url)\n",
    "\n",
    "    image = Image.open(BytesIO(response.content))\n",
    "    image = image.convert('RGBA')\n",
    "\n",
    "    croppedImage = image.crop(cropBox)\n",
    "    #croppedImage.save('croppedImage.png')\n",
    "\n",
    "    valuePrice = pytesseract.image_to_string(croppedImage, config='--psm 10 --oem 3 -c tessedit_char_whitelist=0123456789,')\n",
    "\n",
    "    df.at[idx+1, 'Preço (R$)'] = valuePrice.strip()"
   ]
  },
  {
   "cell_type": "markdown",
   "metadata": {},
   "source": [
    "## Cleaning and saving the data\n",
    "\n",
    "After extracting all the values we can clean the unecessary columns and remove the first row that only displays the current date.\n",
    "\n",
    "Finally, we can print and save our dataframe to a CSV file."
   ]
  },
  {
   "cell_type": "code",
   "execution_count": 22,
   "metadata": {},
   "outputs": [
    {
     "name": "stdout",
     "output_type": "stream",
     "text": [
      "                                             Produto  \\\n",
      "1     Arroz em Casca Irrigado Sc 60Kg Paranavaí (PR)   \n",
      "2  Arroz em Casca Longo Fino Sc 60Kg Aliança do T...   \n",
      "3  Arroz em Casca Longo Fino Sc 60Kg Aparecida do...   \n",
      "4  Arroz em Casca Longo Fino Sc 60Kg Cariri do To...   \n",
      "5  Arroz em Casca Longo Fino Sc 60Kg Formoso do A...   \n",
      "\n",
      "                         Local Preço (R$) Última Atualização  \n",
      "1               Paranavaí (PR)     171,67         26/12/2023  \n",
      "2    Aliança do Tocantins (TO)     200,00         22/12/2023  \n",
      "3  Aparecida do Rio Negro (TO)     200,00         22/12/2023  \n",
      "4     Cariri do Tocantins (TO)     200,00         22/12/2023  \n",
      "5     Formoso do Araguaia (TO)     200,00         22/12/2023  \n"
     ]
    }
   ],
   "source": [
    "df = df.iloc[:, :-2]\n",
    "df = df.iloc[1:]\n",
    "\n",
    "print(df.head(5))\n",
    "df.to_csv('agrolink_arroz.csv',encoding='utf-8-sig')"
   ]
  },
  {
   "cell_type": "markdown",
   "metadata": {},
   "source": [
    "## Conclusion\n",
    "\n",
    "In this notebook, we successfully scraped crop prices from the Agrolink website, even though the website uses images to display the prices. We used a clever approach to handle this: we replicated the website's method of displaying only a part of the image, and we used OCR to extract the price as text. This shows that with a bit of creativity, we can overcome the challenges posed by websites that try to make it harder to scrape their data.\n"
   ]
  }
 ],
 "metadata": {
  "kernelspec": {
   "display_name": "Python 3",
   "language": "python",
   "name": "python3"
  },
  "language_info": {
   "codemirror_mode": {
    "name": "ipython",
    "version": 3
   },
   "file_extension": ".py",
   "mimetype": "text/x-python",
   "name": "python",
   "nbconvert_exporter": "python",
   "pygments_lexer": "ipython3",
   "version": "3.10.2"
  }
 },
 "nbformat": 4,
 "nbformat_minor": 2
}
