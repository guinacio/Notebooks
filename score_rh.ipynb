{
 "cells": [
  {
   "cell_type": "markdown",
   "metadata": {},
   "source": [
    "# Candidate Scoring System (1-100)"
   ]
  },
  {
   "cell_type": "markdown",
   "metadata": {},
   "source": [
    "This notebook is designed to extract data from a SQLite database and calculate a score for candidates from 1 to 100 based on specific requirements."
   ]
  },
  {
   "cell_type": "code",
   "execution_count": 9,
   "metadata": {},
   "outputs": [],
   "source": [
    "# Import necessary libraries\n",
    "import sqlite3\n",
    "import pandas as pd\n",
    "import numpy as np\n"
   ]
  },
  {
   "cell_type": "markdown",
   "id": "dcfd8de9",
   "metadata": {},
   "source": [
    "# Diagrama do Banco de Dados\n",
    "```mermaid\n",
    "erDiagram\n",
    "    CANDIDATOS ||--o{ EXPERIENCIAS : has\n",
    "    CANDIDATOS ||--o{ CANDIDATO_VAGA : applies_to\n",
    "    VAGAS ||--o{ CANDIDATO_VAGA : has_applicants\n",
    "    VAGAS ||--o{ VAGACOMPETENCIA : requires\n",
    "    COMPETENCIAS ||--o{ VAGACOMPETENCIA : is_required_by\n",
    "    COMPETENCIAS ||--o{ COMPETENCIA_EXPERIENCIA : is_part_of\n",
    "    EXPERIENCIAS ||--o{ COMPETENCIA_EXPERIENCIA : includes\n",
    "\n",
    "    CANDIDATOS {\n",
    "        int id PK\n",
    "        varchar(200) nome\n",
    "        char(1) sexo\n",
    "        char(14) cpf\n",
    "        date data_de_nascimento\n",
    "        varchar(500) endereco\n",
    "    }\n",
    "\n",
    "    EXPERIENCIAS {\n",
    "        int id PK\n",
    "        int id_candidato FK\n",
    "        varchar(100) empresa\n",
    "        varchar(100) descricao\n",
    "        date dt_inicio\n",
    "        date dt_termino\n",
    "    }\n",
    "\n",
    "    COMPETENCIAS {\n",
    "        int id PK\n",
    "        varchar(200) nome\n",
    "        varchar(30) tipo\n",
    "        varchar(50) descricao\n",
    "        TEXT area\n",
    "    }\n",
    "\n",
    "    VAGAS {\n",
    "        int id PK\n",
    "        varchar(200) nome\n",
    "        varchar(50) nivel_vaga\n",
    "        FLOAT salario_minimo\n",
    "        FLOAT salario_maximo\n",
    "        varchar(50) departamento\n",
    "        varchar(50) localizacao\n",
    "        varchar(50) responsavel\n",
    "        int minimo_experiencia\n",
    "    }\n",
    "\n",
    "    CANDIDATO_VAGA {\n",
    "        int id_vaga PK,FK\n",
    "        int id_candidato PK,FK\n",
    "        float pretensao_salarial\n",
    "        bool recomendacao\n",
    "    }\n",
    "\n",
    "    VAGACOMPETENCIA {\n",
    "        int id_vaga PK,FK\n",
    "        int id_competencia PK,FK\n",
    "        varchar(15) nivel_competencia\n",
    "        varchar(25) tempo_de_experiencia\n",
    "    }\n",
    "\n",
    "    COMPETENCIA_EXPERIENCIA {\n",
    "        int id_competencia PK,FK\n",
    "        int id_experiencia PK,FK\n",
    "        int tempo_competencia\n",
    "        varchar(20) nivel_competencia\n",
    "    }\n",
    "```"
   ]
  },
  {
   "cell_type": "markdown",
   "metadata": {},
   "source": [
    "## Step 1: Connect to the SQLite Database and Extract Data"
   ]
  },
  {
   "cell_type": "code",
   "execution_count": 10,
   "metadata": {},
   "outputs": [
    {
     "ename": "DatabaseError",
     "evalue": "Execution failed on sql '\nSELECT\n    v.id AS vaga_id,\n    v.nome AS nome_vaga,\n    c.id AS candidato_id,\n    c.nome AS nome_candidato,\n    c.estado AS candidato_estado,\n    cv.pretensao_salarial,\n    v.salario_minimo,\n    v.salario_maximo,\n    ce.total_years AS anos_experiencia_total,\n    v.minimo_experiencia,\n    comp.nome AS competencia,\n    ce.tempo_competencia / 365.25 AS anos_competencia,\n    vc.tempo_de_experiencia,\n    vc.nivel_competencia\nFROM\n    vagas v\nJOIN\n    vagacompetencia vc ON v.id = vc.id_vaga\nJOIN\n    competencias comp ON vc.id_competencia = comp.id\nJOIN\n    competencia_experiencia ce ON comp.id = ce.id_competencia\nJOIN\n    experiencias e ON ce.id_experiencia = e.id\nJOIN\n    candidatos c ON e.id_candidato = c.id\nJOIN\n    candidato_vaga cv ON cv.id_candidato = c.id AND cv.id_vaga = v.id\nGROUP BY\n    v.id, c.id;\n': no such column: c.estado",
     "output_type": "error",
     "traceback": [
      "\u001b[1;31m---------------------------------------------------------------------------\u001b[0m",
      "\u001b[1;31mOperationalError\u001b[0m                          Traceback (most recent call last)",
      "File \u001b[1;32mc:\\Users\\guina\\AppData\\Local\\Programs\\Python\\Python312\\Lib\\site-packages\\pandas\\io\\sql.py:2674\u001b[0m, in \u001b[0;36mSQLiteDatabase.execute\u001b[1;34m(self, sql, params)\u001b[0m\n\u001b[0;32m   2673\u001b[0m \u001b[38;5;28;01mtry\u001b[39;00m:\n\u001b[1;32m-> 2674\u001b[0m     \u001b[43mcur\u001b[49m\u001b[38;5;241;43m.\u001b[39;49m\u001b[43mexecute\u001b[49m\u001b[43m(\u001b[49m\u001b[43msql\u001b[49m\u001b[43m,\u001b[49m\u001b[43m \u001b[49m\u001b[38;5;241;43m*\u001b[39;49m\u001b[43margs\u001b[49m\u001b[43m)\u001b[49m\n\u001b[0;32m   2675\u001b[0m     \u001b[38;5;28;01mreturn\u001b[39;00m cur\n",
      "\u001b[1;31mOperationalError\u001b[0m: no such column: c.estado",
      "\nThe above exception was the direct cause of the following exception:\n",
      "\u001b[1;31mDatabaseError\u001b[0m                             Traceback (most recent call last)",
      "Cell \u001b[1;32mIn[10], line 41\u001b[0m\n\u001b[0;32m      6\u001b[0m query \u001b[38;5;241m=\u001b[39m \u001b[38;5;124m'''\u001b[39m\n\u001b[0;32m      7\u001b[0m \u001b[38;5;124mSELECT\u001b[39m\n\u001b[0;32m      8\u001b[0m \u001b[38;5;124m    v.id AS vaga_id,\u001b[39m\n\u001b[1;32m   (...)\u001b[0m\n\u001b[0;32m     37\u001b[0m \u001b[38;5;124m    v.id, c.id;\u001b[39m\n\u001b[0;32m     38\u001b[0m \u001b[38;5;124m'''\u001b[39m\n\u001b[0;32m     40\u001b[0m \u001b[38;5;66;03m# Load data into a DataFrame\u001b[39;00m\n\u001b[1;32m---> 41\u001b[0m df \u001b[38;5;241m=\u001b[39m \u001b[43mpd\u001b[49m\u001b[38;5;241;43m.\u001b[39;49m\u001b[43mread_sql_query\u001b[49m\u001b[43m(\u001b[49m\u001b[43mquery\u001b[49m\u001b[43m,\u001b[49m\u001b[43m \u001b[49m\u001b[43mconn\u001b[49m\u001b[43m)\u001b[49m\n\u001b[0;32m     42\u001b[0m df\u001b[38;5;241m.\u001b[39mhead()\n",
      "File \u001b[1;32mc:\\Users\\guina\\AppData\\Local\\Programs\\Python\\Python312\\Lib\\site-packages\\pandas\\io\\sql.py:526\u001b[0m, in \u001b[0;36mread_sql_query\u001b[1;34m(sql, con, index_col, coerce_float, params, parse_dates, chunksize, dtype, dtype_backend)\u001b[0m\n\u001b[0;32m    523\u001b[0m \u001b[38;5;28;01massert\u001b[39;00m dtype_backend \u001b[38;5;129;01mis\u001b[39;00m \u001b[38;5;129;01mnot\u001b[39;00m lib\u001b[38;5;241m.\u001b[39mno_default\n\u001b[0;32m    525\u001b[0m \u001b[38;5;28;01mwith\u001b[39;00m pandasSQL_builder(con) \u001b[38;5;28;01mas\u001b[39;00m pandas_sql:\n\u001b[1;32m--> 526\u001b[0m     \u001b[38;5;28;01mreturn\u001b[39;00m \u001b[43mpandas_sql\u001b[49m\u001b[38;5;241;43m.\u001b[39;49m\u001b[43mread_query\u001b[49m\u001b[43m(\u001b[49m\n\u001b[0;32m    527\u001b[0m \u001b[43m        \u001b[49m\u001b[43msql\u001b[49m\u001b[43m,\u001b[49m\n\u001b[0;32m    528\u001b[0m \u001b[43m        \u001b[49m\u001b[43mindex_col\u001b[49m\u001b[38;5;241;43m=\u001b[39;49m\u001b[43mindex_col\u001b[49m\u001b[43m,\u001b[49m\n\u001b[0;32m    529\u001b[0m \u001b[43m        \u001b[49m\u001b[43mparams\u001b[49m\u001b[38;5;241;43m=\u001b[39;49m\u001b[43mparams\u001b[49m\u001b[43m,\u001b[49m\n\u001b[0;32m    530\u001b[0m \u001b[43m        \u001b[49m\u001b[43mcoerce_float\u001b[49m\u001b[38;5;241;43m=\u001b[39;49m\u001b[43mcoerce_float\u001b[49m\u001b[43m,\u001b[49m\n\u001b[0;32m    531\u001b[0m \u001b[43m        \u001b[49m\u001b[43mparse_dates\u001b[49m\u001b[38;5;241;43m=\u001b[39;49m\u001b[43mparse_dates\u001b[49m\u001b[43m,\u001b[49m\n\u001b[0;32m    532\u001b[0m \u001b[43m        \u001b[49m\u001b[43mchunksize\u001b[49m\u001b[38;5;241;43m=\u001b[39;49m\u001b[43mchunksize\u001b[49m\u001b[43m,\u001b[49m\n\u001b[0;32m    533\u001b[0m \u001b[43m        \u001b[49m\u001b[43mdtype\u001b[49m\u001b[38;5;241;43m=\u001b[39;49m\u001b[43mdtype\u001b[49m\u001b[43m,\u001b[49m\n\u001b[0;32m    534\u001b[0m \u001b[43m        \u001b[49m\u001b[43mdtype_backend\u001b[49m\u001b[38;5;241;43m=\u001b[39;49m\u001b[43mdtype_backend\u001b[49m\u001b[43m,\u001b[49m\n\u001b[0;32m    535\u001b[0m \u001b[43m    \u001b[49m\u001b[43m)\u001b[49m\n",
      "File \u001b[1;32mc:\\Users\\guina\\AppData\\Local\\Programs\\Python\\Python312\\Lib\\site-packages\\pandas\\io\\sql.py:2738\u001b[0m, in \u001b[0;36mSQLiteDatabase.read_query\u001b[1;34m(self, sql, index_col, coerce_float, parse_dates, params, chunksize, dtype, dtype_backend)\u001b[0m\n\u001b[0;32m   2727\u001b[0m \u001b[38;5;28;01mdef\u001b[39;00m \u001b[38;5;21mread_query\u001b[39m(\n\u001b[0;32m   2728\u001b[0m     \u001b[38;5;28mself\u001b[39m,\n\u001b[0;32m   2729\u001b[0m     sql,\n\u001b[1;32m   (...)\u001b[0m\n\u001b[0;32m   2736\u001b[0m     dtype_backend: DtypeBackend \u001b[38;5;241m|\u001b[39m Literal[\u001b[38;5;124m\"\u001b[39m\u001b[38;5;124mnumpy\u001b[39m\u001b[38;5;124m\"\u001b[39m] \u001b[38;5;241m=\u001b[39m \u001b[38;5;124m\"\u001b[39m\u001b[38;5;124mnumpy\u001b[39m\u001b[38;5;124m\"\u001b[39m,\n\u001b[0;32m   2737\u001b[0m ) \u001b[38;5;241m-\u001b[39m\u001b[38;5;241m>\u001b[39m DataFrame \u001b[38;5;241m|\u001b[39m Iterator[DataFrame]:\n\u001b[1;32m-> 2738\u001b[0m     cursor \u001b[38;5;241m=\u001b[39m \u001b[38;5;28;43mself\u001b[39;49m\u001b[38;5;241;43m.\u001b[39;49m\u001b[43mexecute\u001b[49m\u001b[43m(\u001b[49m\u001b[43msql\u001b[49m\u001b[43m,\u001b[49m\u001b[43m \u001b[49m\u001b[43mparams\u001b[49m\u001b[43m)\u001b[49m\n\u001b[0;32m   2739\u001b[0m     columns \u001b[38;5;241m=\u001b[39m [col_desc[\u001b[38;5;241m0\u001b[39m] \u001b[38;5;28;01mfor\u001b[39;00m col_desc \u001b[38;5;129;01min\u001b[39;00m cursor\u001b[38;5;241m.\u001b[39mdescription]\n\u001b[0;32m   2741\u001b[0m     \u001b[38;5;28;01mif\u001b[39;00m chunksize \u001b[38;5;129;01mis\u001b[39;00m \u001b[38;5;129;01mnot\u001b[39;00m \u001b[38;5;28;01mNone\u001b[39;00m:\n",
      "File \u001b[1;32mc:\\Users\\guina\\AppData\\Local\\Programs\\Python\\Python312\\Lib\\site-packages\\pandas\\io\\sql.py:2686\u001b[0m, in \u001b[0;36mSQLiteDatabase.execute\u001b[1;34m(self, sql, params)\u001b[0m\n\u001b[0;32m   2683\u001b[0m     \u001b[38;5;28;01mraise\u001b[39;00m ex \u001b[38;5;28;01mfrom\u001b[39;00m \u001b[38;5;21;01minner_exc\u001b[39;00m\n\u001b[0;32m   2685\u001b[0m ex \u001b[38;5;241m=\u001b[39m DatabaseError(\u001b[38;5;124mf\u001b[39m\u001b[38;5;124m\"\u001b[39m\u001b[38;5;124mExecution failed on sql \u001b[39m\u001b[38;5;124m'\u001b[39m\u001b[38;5;132;01m{\u001b[39;00msql\u001b[38;5;132;01m}\u001b[39;00m\u001b[38;5;124m'\u001b[39m\u001b[38;5;124m: \u001b[39m\u001b[38;5;132;01m{\u001b[39;00mexc\u001b[38;5;132;01m}\u001b[39;00m\u001b[38;5;124m\"\u001b[39m)\n\u001b[1;32m-> 2686\u001b[0m \u001b[38;5;28;01mraise\u001b[39;00m ex \u001b[38;5;28;01mfrom\u001b[39;00m \u001b[38;5;21;01mexc\u001b[39;00m\n",
      "\u001b[1;31mDatabaseError\u001b[0m: Execution failed on sql '\nSELECT\n    v.id AS vaga_id,\n    v.nome AS nome_vaga,\n    c.id AS candidato_id,\n    c.nome AS nome_candidato,\n    c.estado AS candidato_estado,\n    cv.pretensao_salarial,\n    v.salario_minimo,\n    v.salario_maximo,\n    ce.total_years AS anos_experiencia_total,\n    v.minimo_experiencia,\n    comp.nome AS competencia,\n    ce.tempo_competencia / 365.25 AS anos_competencia,\n    vc.tempo_de_experiencia,\n    vc.nivel_competencia\nFROM\n    vagas v\nJOIN\n    vagacompetencia vc ON v.id = vc.id_vaga\nJOIN\n    competencias comp ON vc.id_competencia = comp.id\nJOIN\n    competencia_experiencia ce ON comp.id = ce.id_competencia\nJOIN\n    experiencias e ON ce.id_experiencia = e.id\nJOIN\n    candidatos c ON e.id_candidato = c.id\nJOIN\n    candidato_vaga cv ON cv.id_candidato = c.id AND cv.id_vaga = v.id\nGROUP BY\n    v.id, c.id;\n': no such column: c.estado"
     ]
    }
   ],
   "source": [
    "# Connect to the database\n",
    "db_path = 'teste___desafio_técnico_-_analista_de_dados.db'\n",
    "conn = sqlite3.connect(db_path)\n",
    "\n",
    "# Write your SQL query\n",
    "query = '''\n",
    "SELECT\n",
    "    v.id AS vaga_id,\n",
    "    v.nome AS nome_vaga,\n",
    "    c.id AS candidato_id,\n",
    "    c.nome AS nome_candidato,\n",
    "    c.estado AS candidato_estado,\n",
    "    cv.pretensao_salarial,\n",
    "    v.salario_minimo,\n",
    "    v.salario_maximo,\n",
    "    ce.total_years AS anos_experiencia_total,\n",
    "    v.minimo_experiencia,\n",
    "    comp.nome AS competencia,\n",
    "    ce.tempo_competencia / 365.25 AS anos_competencia,\n",
    "    vc.tempo_de_experiencia,\n",
    "    vc.nivel_competencia\n",
    "FROM\n",
    "    vagas v\n",
    "JOIN\n",
    "    vagacompetencia vc ON v.id = vc.id_vaga\n",
    "JOIN\n",
    "    competencias comp ON vc.id_competencia = comp.id\n",
    "JOIN\n",
    "    competencia_experiencia ce ON comp.id = ce.id_competencia\n",
    "JOIN\n",
    "    experiencias e ON ce.id_experiencia = e.id\n",
    "JOIN\n",
    "    candidatos c ON e.id_candidato = c.id\n",
    "JOIN\n",
    "    candidato_vaga cv ON cv.id_candidato = c.id AND cv.id_vaga = v.id\n",
    "GROUP BY\n",
    "    v.id, c.id;\n",
    "'''\n",
    "\n",
    "# Load data into a DataFrame\n",
    "df = pd.read_sql_query(query, conn)\n",
    "df.head()"
   ]
  },
  {
   "cell_type": "markdown",
   "metadata": {},
   "source": [
    "## Step 2: Define the Scoring Criteria"
   ]
  },
  {
   "cell_type": "code",
   "execution_count": null,
   "metadata": {},
   "outputs": [],
   "source": [
    "# Define the company states\n",
    "company_states = ['SC', 'PE', 'SP']  # Santa Catarina, Pernambuco, São Paulo\n",
    "\n",
    "# Define a function to calculate the score based on the criteria\n",
    "def calculate_score(row):\n",
    "    score = 0\n",
    "\n",
    "    # Criterion 1: Location (25 points)\n",
    "    if row['candidato_estado'] in company_states:  # State matches one of the company states\n",
    "        score += 25\n",
    "\n",
    "    # Criterion 2: Salary fit (25 points)\n",
    "    mid_salary = (row['salario_minimo'] + row['salario_maximo']) / 2\n",
    "    if row['salario_minimo'] < row['pretensao_salarial'] < row['salario_maximo']:\n",
    "        # Closer to mid-salary gets a better score\n",
    "        diff_to_mid = abs(mid_salary - row['pretensao_salarial'])\n",
    "        max_diff = row['salario_maximo'] - row['salario_minimo']\n",
    "        score += 25 * (1 - (diff_to_mid / max_diff))  # Normalize score\n",
    "\n",
    "    # Criterion 3: Competence Fit (20 points)\n",
    "    if row['nivel_competencia'] == 'Avançado':\n",
    "        score += 20\n",
    "    elif row['nivel_competencia'] == 'Intermediário':\n",
    "        score += 10\n",
    "\n",
    "    # Criterion 4: Experience (20 points)\n",
    "    if row['anos_experiencia_total'] >= 5:  # More than 5 years experience\n",
    "        score += 20\n",
    "\n",
    "    return round(score, 2)  # Score out of 100\n",
    "\n",
    "# Apply the scoring function\n",
    "df['score'] = df.apply(calculate_score, axis=1)\n",
    "df[['nome_candidato', 'nome_vaga', 'score']].head()"
   ]
  },
  {
   "cell_type": "markdown",
   "metadata": {},
   "source": [
    "## Step 3: Save the Scored Data"
   ]
  },
  {
   "cell_type": "code",
   "execution_count": null,
   "metadata": {},
   "outputs": [],
   "source": [
    "# Save the scored DataFrame to a CSV file\n",
    "output_path = 'scored_candidates.csv'\n",
    "df.to_csv(output_path, index=False)\n",
    "print(f'Scored candidates saved to {output_path}')"
   ]
  },
  {
   "cell_type": "markdown",
   "metadata": {},
   "source": [
    "This notebook can be rerun every 15 days to generate a new candidate score."
   ]
  }
 ],
 "metadata": {
  "kernelspec": {
   "display_name": "Python 3",
   "language": "python",
   "name": "python3"
  },
  "language_info": {
   "codemirror_mode": {
    "name": "ipython",
    "version": 3
   },
   "file_extension": ".py",
   "mimetype": "text/x-python",
   "name": "python",
   "nbconvert_exporter": "python",
   "pygments_lexer": "ipython3",
   "version": "3.12.3"
  }
 },
 "nbformat": 4,
 "nbformat_minor": 5
}
