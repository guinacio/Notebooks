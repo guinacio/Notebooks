
{
 "cells": [
  {
   "cell_type": "markdown",
   "metadata": {},
   "source": [
    "# Candidate Scoring System (1-100)"
   ]
  },
  {
   "cell_type": "markdown",
   "metadata": {},
   "source": [
    "This notebook is designed to extract data from a SQLite database and calculate a score for candidates from 1 to 100 based on specific requirements."
   ]
  },
  {
   "cell_type": "code",
   "execution_count": null,
   "metadata": {},
   "outputs": [],
   "source": [
    "# Import necessary libraries\n",
    "import sqlite3\n",
    "import pandas as pd\n",
    "import numpy as np\n"
   ]
  },
  {
   "cell_type": "markdown",
   "metadata": {},
   "source": [
    "## Step 1: Connect to the SQLite Database and Extract Data"
   ]
  },
  {
   "cell_type": "code",
   "execution_count": null,
   "metadata": {},
   "outputs": [],
   "source": [
    "# Connect to the database\n",
    "db_path = '/mnt/data/teste___desafio_técnico_-_analista_de_dados.db'\n",
    "conn = sqlite3.connect(db_path)\n",
    "\n",
    "# Write your SQL query\n",
    "query = '''\n",
    "SELECT\n",
    "    v.id AS vaga_id,\n",
    "    v.nome AS nome_vaga,\n",
    "    c.id AS candidato_id,\n",
    "    c.nome AS nome_candidato,\n",
    "    c.estado AS candidato_estado,\n",
    "    cv.pretensao_salarial,\n",
    "    v.salario_minimo,\n",
    "    v.salario_maximo,\n",
    "    ce.total_years AS anos_experiencia_total,\n",
    "    v.minimo_experiencia,\n",
    "    comp.nome AS competencia,\n",
    "    ce.tempo_competencia / 365.25 AS anos_competencia,\n",
    "    vc.tempo_de_experiencia,\n",
    "    vc.nivel_competencia\n",
    "FROM\n",
    "    vagas v\n",
    "JOIN\n",
    "    vagacompetencia vc ON v.id = vc.id_vaga\n",
    "JOIN\n",
    "    competencias comp ON vc.id_competencia = comp.id\n",
    "JOIN\n",
    "    competencia_experiencia ce ON comp.id = ce.id_competencia\n",
    "JOIN\n",
    "    experiencias e ON ce.id_experiencia = e.id\n",
    "JOIN\n",
    "    candidatos c ON e.id_candidato = c.id\n",
    "JOIN\n",
    "    candidato_vaga cv ON cv.id_candidato = c.id AND cv.id_vaga = v.id\n",
    "GROUP BY\n",
    "    v.id, c.id;\n",
    "'''\n",
    "\n",
    "# Load data into a DataFrame\n",
    "df = pd.read_sql_query(query, conn)\n",
    "df.head()"
   ]
  },
  {
   "cell_type": "markdown",
   "metadata": {},
   "source": [
    "## Step 2: Define the Scoring Criteria"
   ]
  },
  {
   "cell_type": "code",
   "execution_count": null,
   "metadata": {},
   "outputs": [],
   "source": [
    "# Define the company states\n",
    "company_states = ['SC', 'PE', 'SP']  # Santa Catarina, Pernambuco, São Paulo\n",
    "\n",
    "# Define a function to calculate the score based on the criteria\n",
    "def calculate_score(row):\n",
    "    score = 0\n",
    "\n",
    "    # Criterion 1: Location (25 points)\n",
    "    if row['candidato_estado'] in company_states:  # State matches one of the company states\n",
    "        score += 25\n",
    "\n",
    "    # Criterion 2: Salary fit (25 points)\n",
    "    mid_salary = (row['salario_minimo'] + row['salario_maximo']) / 2\n",
    "    if row['salario_minimo'] < row['pretensao_salarial'] < row['salario_maximo']:\n",
    "        # Closer to mid-salary gets a better score\n",
    "        diff_to_mid = abs(mid_salary - row['pretensao_salarial'])\n",
    "        max_diff = row['salario_maximo'] - row['salario_minimo']\n",
    "        score += 25 * (1 - (diff_to_mid / max_diff))  # Normalize score\n",
    "\n",
    "    # Criterion 3: Competence Fit (20 points)\n",
    "    if row['nivel_competencia'] == 'Avançado':\n",
    "        score += 20\n",
    "    elif row['nivel_competencia'] == 'Intermediário':\n",
    "        score += 10\n",
    "\n",
    "    # Criterion 4: Experience (20 points)\n",
    "    if row['anos_experiencia_total'] >= 5:  # More than 5 years experience\n",
    "        score += 20\n",
    "\n",
    "    return round(score, 2)  # Score out of 100\n",
    "\n",
    "# Apply the scoring function\n",
    "df['score'] = df.apply(calculate_score, axis=1)\n",
    "df[['nome_candidato', 'nome_vaga', 'score']].head()"
   ]
  },
  {
   "cell_type": "markdown",
   "metadata": {},
   "source": [
    "## Step 3: Save the Scored Data"
   ]
  },
  {
   "cell_type": "code",
   "execution_count": null,
   "metadata": {},
   "outputs": [],
   "source": [
    "# Save the scored DataFrame to a CSV file\n",
    "output_path = 'scored_candidates.csv'\n",
    "df.to_csv(output_path, index=False)\n",
    "print(f'Scored candidates saved to {output_path}')"
   ]
  },
  {
   "cell_type": "markdown",
   "metadata": {},
   "source": [
    "This notebook can be rerun every 15 days to generate a new candidate score."
   ]
  }
 ],
 "metadata": {
  "kernelspec": {
   "display_name": "Python 3",
   "language": "python",
   "name": "python3"
  },
  "language_info": {
   "codemirror_mode": {
    "name": "ipython",
    "version": 3
   },
   "file_extension": ".py",
   "mimetype": "text/x-python",
   "name": "python",
   "nbconvert_exporter": "python",
   "pygments_lexer": "ipython3",
   "version": "3.9.12"
  }
 },
 "nbformat": 4,
 "nbformat_minor": 5
}
